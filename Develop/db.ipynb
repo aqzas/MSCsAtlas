{
 "cells": [
  {
   "cell_type": "code",
   "execution_count": 187,
   "id": "d6d782fd-d11b-4d51-8149-94fda3b9c181",
   "metadata": {
    "tags": []
   },
   "outputs": [],
   "source": [
    "import pymongo\n",
    "from collections import Counter"
   ]
  },
  {
   "cell_type": "code",
   "execution_count": 188,
   "id": "a3c47b51-27e1-47a9-8c25-1d63db622f22",
   "metadata": {
    "tags": []
   },
   "outputs": [],
   "source": [
    "# ssh -N -oHostKeyAlgorithms=+ssh-dss -f -L 8848:222.20.95.102:8848 -p 3000 chensy@222.20.95.101"
   ]
  },
  {
   "cell_type": "code",
   "execution_count": 189,
   "id": "d61c4785-aa77-4a92-9ce5-fd5c252a5595",
   "metadata": {
    "tags": []
   },
   "outputs": [],
   "source": [
    "myclient = pymongo.MongoClient(\"mongodb://127.0.0.1:8848\",\n",
    "                          username=\"admin_user\",\n",
    "                          password='admin_password')\n",
    "mydb = myclient['MSC']"
   ]
  },
  {
   "cell_type": "code",
   "execution_count": 190,
   "id": "bbfd1e74-c961-4113-ad09-228a0efa078d",
   "metadata": {
    "tags": []
   },
   "outputs": [
    {
     "data": {
      "text/plain": [
       "['samples', 'projects']"
      ]
     },
     "execution_count": 190,
     "metadata": {},
     "output_type": "execute_result"
    }
   ],
   "source": [
    "mydb.list_collection_names()"
   ]
  },
  {
   "cell_type": "code",
   "execution_count": 153,
   "id": "8e3e787d-24b7-430e-b60a-1500ecc0e639",
   "metadata": {
    "scrolled": true,
    "tags": []
   },
   "outputs": [
    {
     "data": {
      "text/plain": [
       "[{'_id': ObjectId('64c46ff84a64121ab73aa42c'),\n",
       "  'Source': ['Bone marrow'],\n",
       "  'Marker': ['LEPRhiCD45low'],\n",
       "  'Treatment': ['identified LEPRhiCD45low BM-MSCs within the CD271+ BM-MNC population'],\n",
       "  'Condition': 'osteoporosis',\n",
       "  'LibraryStrategy': 'scRNA-Seq',\n",
       "  'Species': 'Homo sapiens',\n",
       "  'SampleId': 'SRS6346968',\n",
       "  'ExperimentId': 'SRX7960930',\n",
       "  'ProjectId': 'PRJNA613685',\n",
       "  'RunId': 'SRR11359429',\n",
       "  'Comment': 'GSM4423510: MNC_osteoporosis; Homo sapiens; RNA-SeqGSM4423510 None',\n",
       "  'Gender': 'Unknown',\n",
       "  'Instrument': 'Illumina NovaSeq 6000',\n",
       "  'LibraryLayout': 'PAIRED',\n",
       "  'LibrarySelection': 'cDNA',\n",
       "  'Length': 300,\n",
       "  'Spots': 140.55,\n",
       "  'Url': ['era-fasp@fasp.sra.ebi.ac.uk:/vol1/fastq/SRR113/029/SRR11359429/SRR11359429_1.fastq.gz',\n",
       "   'era-fasp@fasp.sra.ebi.ac.uk:/vol1/fastq/SRR113/029/SRR11359429/SRR11359429_2.fastq.gz']},\n",
       " {'_id': ObjectId('64c46ff84a64121ab73aa42e'),\n",
       "  'Source': ['Bone marrow'],\n",
       "  'Marker': ['LEPRhiCD45low'],\n",
       "  'Treatment': ['identified LEPRhiCD45low BM-MSCs within the CD271+ BM-MNC population'],\n",
       "  'Condition': 'osteoporosis',\n",
       "  'LibraryStrategy': 'scRNA-Seq',\n",
       "  'Species': 'Homo sapiens',\n",
       "  'SampleId': 'SRS6346968',\n",
       "  'ExperimentId': 'SRX7960930',\n",
       "  'ProjectId': 'PRJNA613685',\n",
       "  'RunId': 'SRR11359431',\n",
       "  'Comment': 'GSM4423510: MNC_osteoporosis; Homo sapiens; RNA-SeqGSM4423510 None',\n",
       "  'Gender': 'Unknown',\n",
       "  'Instrument': 'Illumina NovaSeq 6000',\n",
       "  'LibraryLayout': 'PAIRED',\n",
       "  'LibrarySelection': 'cDNA',\n",
       "  'Length': 300,\n",
       "  'Spots': 114.25,\n",
       "  'Url': ['era-fasp@fasp.sra.ebi.ac.uk:/vol1/fastq/SRR113/031/SRR11359431/SRR11359431_1.fastq.gz',\n",
       "   'era-fasp@fasp.sra.ebi.ac.uk:/vol1/fastq/SRR113/031/SRR11359431/SRR11359431_2.fastq.gz']},\n",
       " {'_id': ObjectId('64c46ff84a64121ab73aa42d'),\n",
       "  'Source': ['Bone marrow'],\n",
       "  'Marker': ['LEPRhiCD45low'],\n",
       "  'Treatment': ['identified LEPRhiCD45low BM-MSCs within the CD271+ BM-MNC population'],\n",
       "  'Condition': 'osteoporosis',\n",
       "  'LibraryStrategy': 'scRNA-Seq',\n",
       "  'Species': 'Homo sapiens',\n",
       "  'SampleId': 'SRS6346968',\n",
       "  'ExperimentId': 'SRX7960930',\n",
       "  'ProjectId': 'PRJNA613685',\n",
       "  'RunId': 'SRR11359430',\n",
       "  'Comment': 'GSM4423510: MNC_osteoporosis; Homo sapiens; RNA-SeqGSM4423510 None',\n",
       "  'Gender': 'Unknown',\n",
       "  'Instrument': 'Illumina NovaSeq 6000',\n",
       "  'LibraryLayout': 'PAIRED',\n",
       "  'LibrarySelection': 'cDNA',\n",
       "  'Length': 300,\n",
       "  'Spots': 179.87,\n",
       "  'Url': ['era-fasp@fasp.sra.ebi.ac.uk:/vol1/fastq/SRR113/030/SRR11359430/SRR11359430_1.fastq.gz',\n",
       "   'era-fasp@fasp.sra.ebi.ac.uk:/vol1/fastq/SRR113/030/SRR11359430/SRR11359430_2.fastq.gz']},\n",
       " {'_id': ObjectId('64c46ff84a64121ab73aa430'),\n",
       "  'Source': ['Bone marrow'],\n",
       "  'Marker': ['LEPRhiCD45low'],\n",
       "  'Treatment': ['identified LEPRhiCD45low BM-MSCs within the CD271+ BM-MNC population'],\n",
       "  'Condition': 'osteoarthritis',\n",
       "  'LibraryStrategy': 'scRNA-Seq',\n",
       "  'Species': 'Homo sapiens',\n",
       "  'SampleId': 'SRS6346969',\n",
       "  'ExperimentId': 'SRX7960931',\n",
       "  'ProjectId': 'PRJNA613685',\n",
       "  'RunId': 'SRR11359433',\n",
       "  'Comment': 'GSM4423511: MNC_osteoarthritis; Homo sapiens; RNA-SeqGSM4423511 None',\n",
       "  'Gender': 'Unknown',\n",
       "  'Instrument': 'Illumina NovaSeq 6000',\n",
       "  'LibraryLayout': 'PAIRED',\n",
       "  'LibrarySelection': 'cDNA',\n",
       "  'Length': 300,\n",
       "  'Spots': 184.26,\n",
       "  'Url': ['era-fasp@fasp.sra.ebi.ac.uk:/vol1/fastq/SRR113/033/SRR11359433/SRR11359433_1.fastq.gz',\n",
       "   'era-fasp@fasp.sra.ebi.ac.uk:/vol1/fastq/SRR113/033/SRR11359433/SRR11359433_2.fastq.gz']},\n",
       " {'_id': ObjectId('64c46ff84a64121ab73aa431'),\n",
       "  'Source': ['Bone marrow'],\n",
       "  'Marker': ['LEPRhiCD45low'],\n",
       "  'Treatment': ['identified LEPRhiCD45low BM-MSCs within the CD271+ BM-MNC population'],\n",
       "  'Condition': 'osteoarthritis',\n",
       "  'LibraryStrategy': 'scRNA-Seq',\n",
       "  'Species': 'Homo sapiens',\n",
       "  'SampleId': 'SRS6346969',\n",
       "  'ExperimentId': 'SRX7960931',\n",
       "  'ProjectId': 'PRJNA613685',\n",
       "  'RunId': 'SRR11359434',\n",
       "  'Comment': 'GSM4423511: MNC_osteoarthritis; Homo sapiens; RNA-SeqGSM4423511 None',\n",
       "  'Gender': 'Unknown',\n",
       "  'Instrument': 'Illumina NovaSeq 6000',\n",
       "  'LibraryLayout': 'PAIRED',\n",
       "  'LibrarySelection': 'cDNA',\n",
       "  'Length': 300,\n",
       "  'Spots': 210.65,\n",
       "  'Url': ['era-fasp@fasp.sra.ebi.ac.uk:/vol1/fastq/SRR113/034/SRR11359434/SRR11359434_1.fastq.gz',\n",
       "   'era-fasp@fasp.sra.ebi.ac.uk:/vol1/fastq/SRR113/034/SRR11359434/SRR11359434_2.fastq.gz']},\n",
       " {'_id': ObjectId('64c46ff84a64121ab73aa42f'),\n",
       "  'Source': ['Bone marrow'],\n",
       "  'Marker': ['LEPRhiCD45low'],\n",
       "  'Treatment': ['identified LEPRhiCD45low BM-MSCs within the CD271+ BM-MNC population'],\n",
       "  'Condition': 'osteoporosis',\n",
       "  'LibraryStrategy': 'scRNA-Seq',\n",
       "  'Species': 'Homo sapiens',\n",
       "  'SampleId': 'SRS6346968',\n",
       "  'ExperimentId': 'SRX7960930',\n",
       "  'ProjectId': 'PRJNA613685',\n",
       "  'RunId': 'SRR11359432',\n",
       "  'Comment': 'GSM4423510: MNC_osteoporosis; Homo sapiens; RNA-SeqGSM4423510 None',\n",
       "  'Gender': 'Unknown',\n",
       "  'Instrument': 'Illumina NovaSeq 6000',\n",
       "  'LibraryLayout': 'PAIRED',\n",
       "  'LibrarySelection': 'cDNA',\n",
       "  'Length': 300,\n",
       "  'Spots': 175.34,\n",
       "  'Url': ['era-fasp@fasp.sra.ebi.ac.uk:/vol1/fastq/SRR113/032/SRR11359432/SRR11359432_1.fastq.gz',\n",
       "   'era-fasp@fasp.sra.ebi.ac.uk:/vol1/fastq/SRR113/032/SRR11359432/SRR11359432_2.fastq.gz']},\n",
       " {'_id': ObjectId('64c46ff84a64121ab73aa432'),\n",
       "  'Source': ['Bone marrow'],\n",
       "  'Marker': ['LEPRhiCD45low'],\n",
       "  'Treatment': ['identified LEPRhiCD45low BM-MSCs within the CD271+ BM-MNC population'],\n",
       "  'Condition': 'osteoarthritis',\n",
       "  'LibraryStrategy': 'scRNA-Seq',\n",
       "  'Species': 'Homo sapiens',\n",
       "  'SampleId': 'SRS6346969',\n",
       "  'ExperimentId': 'SRX7960931',\n",
       "  'ProjectId': 'PRJNA613685',\n",
       "  'RunId': 'SRR11359435',\n",
       "  'Comment': 'GSM4423511: MNC_osteoarthritis; Homo sapiens; RNA-SeqGSM4423511 None',\n",
       "  'Gender': 'Unknown',\n",
       "  'Instrument': 'Illumina NovaSeq 6000',\n",
       "  'LibraryLayout': 'PAIRED',\n",
       "  'LibrarySelection': 'cDNA',\n",
       "  'Length': 300,\n",
       "  'Spots': 181.07,\n",
       "  'Url': ['era-fasp@fasp.sra.ebi.ac.uk:/vol1/fastq/SRR113/035/SRR11359435/SRR11359435_1.fastq.gz',\n",
       "   'era-fasp@fasp.sra.ebi.ac.uk:/vol1/fastq/SRR113/035/SRR11359435/SRR11359435_2.fastq.gz']},\n",
       " {'_id': ObjectId('64c46ff84a64121ab73aa433'),\n",
       "  'Source': ['Bone marrow'],\n",
       "  'Marker': ['LEPRhiCD45low'],\n",
       "  'Treatment': ['identified LEPRhiCD45low BM-MSCs within the CD271+ BM-MNC population'],\n",
       "  'Condition': 'osteoarthritis',\n",
       "  'LibraryStrategy': 'scRNA-Seq',\n",
       "  'Species': 'Homo sapiens',\n",
       "  'SampleId': 'SRS6346969',\n",
       "  'ExperimentId': 'SRX7960931',\n",
       "  'ProjectId': 'PRJNA613685',\n",
       "  'RunId': 'SRR11359436',\n",
       "  'Comment': 'GSM4423511: MNC_osteoarthritis; Homo sapiens; RNA-SeqGSM4423511 None',\n",
       "  'Gender': 'Unknown',\n",
       "  'Instrument': 'Illumina NovaSeq 6000',\n",
       "  'LibraryLayout': 'PAIRED',\n",
       "  'LibrarySelection': 'cDNA',\n",
       "  'Length': 300,\n",
       "  'Spots': 187.69,\n",
       "  'Url': ['era-fasp@fasp.sra.ebi.ac.uk:/vol1/fastq/SRR113/036/SRR11359436/SRR11359436_1.fastq.gz',\n",
       "   'era-fasp@fasp.sra.ebi.ac.uk:/vol1/fastq/SRR113/036/SRR11359436/SRR11359436_2.fastq.gz']}]"
      ]
     },
     "execution_count": 153,
     "metadata": {},
     "output_type": "execute_result"
    }
   ],
   "source": [
    "list( mydb['samples'].find({\"ProjectId\": \"PRJNA613685\"}) )"
   ]
  },
  {
   "cell_type": "code",
   "execution_count": 158,
   "id": "90b5472f-0a25-4f80-899b-6888e2e02441",
   "metadata": {
    "tags": []
   },
   "outputs": [
    {
     "data": {
      "text/plain": [
       "<pymongo.results.DeleteResult at 0x157c32530>"
      ]
     },
     "execution_count": 158,
     "metadata": {},
     "output_type": "execute_result"
    }
   ],
   "source": [
    "mydb['samples'].delete_many({\"ProjectId\": \"PRJNA928451\", \"LibraryStrategy\": 'MNase-seq'}) "
   ]
  },
  {
   "cell_type": "code",
   "execution_count": 115,
   "id": "623cb90d-de10-4432-8610-d7ea52c0e5ab",
   "metadata": {
    "tags": []
   },
   "outputs": [
    {
     "data": {
      "text/plain": [
       "<pymongo.results.UpdateResult at 0x15766eda0>"
      ]
     },
     "execution_count": 115,
     "metadata": {},
     "output_type": "execute_result"
    }
   ],
   "source": [
    "mydb['samples'].update_many({\"ProjectId\": \"PRJNA488091\"}, { '$set': { 'Treatment': ['chondrogenically pre-cultured'], 'Source': ['Bone marrow'] } }) "
   ]
  },
  {
   "cell_type": "code",
   "execution_count": 114,
   "id": "88d4f13c-4ca9-4fd8-b81c-c4dc4b70bcab",
   "metadata": {
    "tags": []
   },
   "outputs": [
    {
     "data": {
      "text/plain": [
       "<pymongo.results.UpdateResult at 0x1576714e0>"
      ]
     },
     "execution_count": 114,
     "metadata": {},
     "output_type": "execute_result"
    }
   ],
   "source": [
    "mydb['Projects'].update_many({\"ProjectId\": \"PRJNA488091\"}, { '$set': { 'Treatment': ['chondrogenically pre-cultured'], 'Source': ['Bone marrow'] } }) "
   ]
  },
  {
   "cell_type": "markdown",
   "id": "c7dddcfa-601b-4f05-ba5a-a1bf7753edd8",
   "metadata": {},
   "source": [
    "## Change to single cell"
   ]
  },
  {
   "cell_type": "markdown",
   "id": "3ff55f3b-26c6-4dd0-8a4c-141978658dec",
   "metadata": {},
   "source": [
    "# Change sequencing type"
   ]
  },
  {
   "cell_type": "code",
   "execution_count": 99,
   "id": "ff5a59f7-e3f6-4cd0-ad4a-f06394a3c2a5",
   "metadata": {
    "tags": []
   },
   "outputs": [],
   "source": [
    "def change(pid, tp):\n",
    "    mydb['projects'].update_one({\"ProjectId\": pid}, { \"$set\": { 'SequencingType': [tp] } })\n",
    "    mydb['samples'].update_many({\"ProjectId\": pid}, { '$set':{ 'LibraryStrategy': tp } })"
   ]
  },
  {
   "cell_type": "code",
   "execution_count": 152,
   "id": "35c9130b-94aa-4c67-b4fe-ce8dc4d744b1",
   "metadata": {
    "tags": []
   },
   "outputs": [],
   "source": [
    "change('PRJNA823365', 'scRNA-Seq')"
   ]
  },
  {
   "cell_type": "markdown",
   "id": "c2174761-ac7c-4537-9e10-f0fb6e9a9977",
   "metadata": {},
   "source": [
    "# Distingush EV and MSC"
   ]
  },
  {
   "cell_type": "code",
   "execution_count": 94,
   "id": "722cafc1-0a5d-4075-944c-686f5f2cd846",
   "metadata": {
    "tags": []
   },
   "outputs": [
    {
     "data": {
      "text/plain": [
       "<pymongo.results.UpdateResult at 0x1575a1f00>"
      ]
     },
     "execution_count": 94,
     "metadata": {},
     "output_type": "execute_result"
    }
   ],
   "source": [
    "mydb['projects'].update_many({}, { '$set': { 'Target': 'MSC' } })"
   ]
  },
  {
   "cell_type": "code",
   "execution_count": 107,
   "id": "2b6a1e2b-f628-4cad-884f-d33ebc078d60",
   "metadata": {
    "tags": []
   },
   "outputs": [],
   "source": [
    "pids = \"\"\"PRJNA956270\n",
    "PRJNA929917\n",
    "PRJNA863244\n",
    "PRJNA812533\n",
    "PRJNA801605\n",
    "PRJNA745950\n",
    "PRJNA326339\n",
    "PRJNA888211\n",
    "PRJNA705354\n",
    "PRJNA1043587\n",
    "PRJDB9427\n",
    "PRJNA639151\n",
    "PRJNA287115\"\"\".split('\\n')"
   ]
  },
  {
   "cell_type": "code",
   "execution_count": 108,
   "id": "5971028a-fdb1-4fe5-a54c-980ed13a1312",
   "metadata": {
    "tags": []
   },
   "outputs": [
    {
     "data": {
      "text/plain": [
       "<pymongo.results.UpdateResult at 0x157670bb0>"
      ]
     },
     "execution_count": 108,
     "metadata": {},
     "output_type": "execute_result"
    }
   ],
   "source": [
    "mydb['projects'].update_many( { 'ProjectId': { '$in': pids } }, { '$set': { 'Target': 'EV/Exosome' } } )"
   ]
  },
  {
   "cell_type": "markdown",
   "id": "9ad12bcc-30d9-437d-81fb-6fbef94e1634",
   "metadata": {},
   "source": [
    "# TODO "
   ]
  },
  {
   "cell_type": "markdown",
   "id": "80e73001-6589-4eae-b019-20c5b510dbde",
   "metadata": {
    "tags": []
   },
   "source": [
    "好像有些没有Sequencing type"
   ]
  },
  {
   "cell_type": "code",
   "execution_count": 197,
   "id": "05d42091-37e6-4b6c-a927-7f54bda03e41",
   "metadata": {
    "tags": []
   },
   "outputs": [],
   "source": [
    "todo = list( mydb['projects'].find({\n",
    "    'ExpressionDown': { \"$ne\": True },\n",
    "    'Target': 'MSC',\n",
    "    'SequencingType': { '$exists': False }\n",
    "},\n",
    "   {'ProjectId': 1, 'Summary': 1, 'SampleCount':1, '_id': 0}\n",
    "    \n",
    "))"
   ]
  },
  {
   "cell_type": "code",
   "execution_count": 198,
   "id": "a70b3961-943c-4121-8536-3a4dda5a6991",
   "metadata": {
    "tags": []
   },
   "outputs": [
    {
     "data": {
      "text/plain": [
       "47"
      ]
     },
     "execution_count": 198,
     "metadata": {},
     "output_type": "execute_result"
    }
   ],
   "source": [
    "len(todo)"
   ]
  },
  {
   "cell_type": "code",
   "execution_count": 199,
   "id": "ea80da73-ef54-4a9e-b66a-512d49e3dcd0",
   "metadata": {
    "tags": []
   },
   "outputs": [
    {
     "data": {
      "text/plain": [
       "[{'ProjectId': 'PRJNA860821',\n",
       "  'Summary': 'To elucidate how the core circadian component BMAL1 and clock regulate the osteogenic capacity of human bone marrow MSCs, RNA-seq was performed to study the impact of diminishing core component BMAL1 or CLOCK in MSCs by lentiviruses.\\nOverall design: Examination of the mRNA profiles in human bone marrow MSCs with diminishing  BMAL1 or CLOCK during osteogenic differentiation Less...',\n",
       "  'SampleCount': 9},\n",
       " {'ProjectId': 'PRJEB42334',\n",
       "  'Summary': 'Human adipose-derived mesenchymal stem cells were cultured either in hypoxia (Hx; <0.1% oxygen) or standard culture conditions (normoxia, Nx) over 48 hours in serum-free medium. Human tympanic membrane keratinocytes were cultured in standard culture conditions over 48 hours in serum-free medium.',\n",
       "  'SampleCount': 55},\n",
       " {'ProjectId': 'PRJNA483407',\n",
       "  'Summary': 'Human bone marrow-derived mesenchymal stem/stromal cells (hBM MSCs) have multiple functions, critical for skeletal formation and function. Their functional heterogeneity, however, represents a major challenge for their isolation and  in developing and potency and release assays to predict their functionality prior to transplantation. Additionally, potency, biomarker profiles and defining mechanisms of action in a particular clinical setting are increasing requirements of Regulatory Agencies for release of hBM MSCs as Advanced Therapy Medicinal Products (ATMPs) for cellular therapies. Since the healing of bone defects in larger bone grafts depends on the coupling of new blood vessel formation with osteogenesis, we hypothesised that a correlation between the osteogenic and vascular supportive potential of individual hBM MSC-derived CFU-F (colony forming unit-fibroblastoid) clones might exist. We tested this by assessing the lineage (i.e. adipogenic {A}, osteogenic {O} and/or chondrogenic {C}) potential of individual hBM MSC-derived CFU-F clones and determining if their osteogenic {O} potential correlated with their vascular supportive profile in vitro using lineage differentiation assays, endothelial-hBM MSC vascular co-culture assays and transcriptomic (RNAseq) analyses. Our results demonstrate that the majority of CFU-F (95%) possessed tri-lineage, bi-lineage or uni-lineage osteogenic capacity, with 64% of the CFU-F exhibiting tri-lineage AOC potential. We found a correlation between the osteogenic and vascular tubule supportive activity of CFU-F clones, with the strength of this association being donor dependent.  RNAseq of individual clones defined gene fingerprints relevant to this correlation.\\nOverall design: 16 samples from two donors (8 from each donor), possessing high or low osteogenic potential. Less...',\n",
       "  'SampleCount': 16},\n",
       " {'ProjectId': 'PRJNA321743',\n",
       "  'Summary': 'Using RNA-seq, we report here that BM-MSC cells have a distinct transcriptomic signature and express a unique cluster of transcripts in response to 4 hrs LPS.\\nOverall design: Examination of effects of LPS-stimulated BM-MSCs, were generated by deep sequencing on an Illumina HiSeq 2000(101 cycles PE lane). Less...',\n",
       "  'SampleCount': 6},\n",
       " {'ProjectId': 'PRJNA629541',\n",
       "  'Summary': 'Endometrial mesenchymal-like stem cells (eMSCs) are adult stem cells contributing to endometrial regeneration. One set of perivascular markers (CD140b+CD146+) have been widely used to enrich eMSCs. In this study, we applied 10X genomics single-cell RNA sequencing to eMSCs cultured in vitro after microbeading from 6 donors to investigate cellular heterogeneity in an unbiased manner.\\nOverall design: Endometrial tissue were obtained from 6 donors with regular menstrual cycle. eMSCs were isolated from the cultured primary stromal cells and investigated through singe cell RNA sequencing in 10X Genomics platform. Less...',\n",
       "  'SampleCount': 6},\n",
       " {'ProjectId': 'PRJNA379707',\n",
       "  'Summary': 'We report genome-wide expression changes that occur in adipose-derived mesenchymal stem cells upon treatment with CytoD cytoskeletal drug. mRNA-Seq analysis shows that CytoD-treated samples cluster together. In addition, we also see that cells treated with CytoD show upregulation of osteogenic markers, epiregulators, and a number of key molecular function pathways including extracellular matrix, cell membrane gene expression.\\nOverall design: Adipose MSCs were cultured in Advanced-MEM base (Life Technologies), 5% platelet lysate, and 1% non-essential amino acids (Life Technologies), and 2U/ml heparin. Cells used for experiments were of passage 6. Adipose MSCs were seeded at 3,000 cells per cm2 in maintenance medium in 6-well plates and incubated under standard culture conditions for 24 hours before being changed to osteogenic medium containing vehicle (DMSO) or 0.1 µg/ml cytochalasin D (Sigma). Osteogenic medium maintenance media supplemented with 10 nM dexamethasone, 25 µg/ml ascorbic acid, and 10 mM β-glycerophosphate. Cells in culture were prepared for RNA isolation by lysing with Qiazol. Purified RNA was then submitted for RNA-sequencing. Less...',\n",
       "  'SampleCount': 6},\n",
       " {'ProjectId': 'PRJNA445555',\n",
       "  'Summary': 'RNA-seq profiling of gene expression of human telomerase reverse transcriptase (hTERT)-expressing human cardiac mesenchymal stem cells.\\nOverall design: mRNA profiles of non-transduced (NT), empty vector (EV) or hTERT-transduced human cardiac mesenchymal stem cells from young, adult and diseased samples were generated by deep sequencing on Illumina HiSeq 2500 using the Illumina TruSeq Stranded mRNA sample preparation kit Set A (Illumina, CA, USA). Four different patient samples per group. Less...',\n",
       "  'SampleCount': 36},\n",
       " {'ProjectId': 'PRJNA427920',\n",
       "  'Summary': 'Two-dimensional (2D) nanomaterials, an ultrathin class of materials such as graphene, nanoclays, transition metal dichalcogenides (TMDs), and transition metal oxides (TMOs), have emerged as a new generation of materials due to their unique properties relative to macroscale counterparts. However, little is known about the transcriptome dynamics following exposure to these nanomaterials. Here we investigate the interactions of 2D nanosilicates, a layered clay, with human mesenchymal stem cells (hMSCs) at the whole transcriptome level by high-throughput sequencing (RNA-seq). Analysis of cell-nanosilicate interactions by monitoring change in transcriptome profile uncovers key biophysical and biochemical cellular pathways triggered by nanosilicates. A widespread alteration of genes is observed due to nanosilicate exposure as more than 4,000 genes are differentially expressed. The change in mRNA expression levels reveal clathrin-mediated endocytosis of nanosilicates. Nanosilicate attachment to cell membrane and subsequent cellular internalization activate stress-responsive pathways such as mitogen activated protein kinase (MAPK), which subsequently directs hMSC differentiation towards osteogenic and chondrogenic lineages. This study provides transcriptomic insight on the role of surface-mediated cellular signaling triggered by nanomaterials and enables development of nanomaterials-based therapeutics for regenerative medicine. This approach in understanding nanomaterial-cell interactions, illustrates how change in transcriptomic profile can predict downstream effects following nanomaterial treatment.\\xa0\\nOverall design: Examination of affect of 2D nanosilicates on hMSCs Less...',\n",
       "  'SampleCount': 6},\n",
       " {'ProjectId': 'PRJNA390171',\n",
       "  'Summary': 'We report the effect of FDA approved digoxin treatment (50nM for 48h) on the gene expression and alternative splices in control human pluripotent stem cells derived mesenchymal stem cells. Our results demonstrate the effect of digoxin treatment on alternative splice as 258 skipping exons were identified after digoxin treatment. Concerning the gene expression, our results also highlight on the large effect of digoxin treatment on the modulation of gene expression.\\nOverall design: Gene expression and Alternative splices were examined in three samples of WT human pluripotent stem cells derived mesenchymal stem cells treated or not with 50nM digoxin for 48h. Less...',\n",
       "  'SampleCount': 6},\n",
       " {'ProjectId': 'PRJNA344928',\n",
       "  'Summary': 'RNA interference (RNAi) has immense potential to modulate cell functions. However, effective delivery of siRNA while avoiding deleterious side effects has proven challenging. This study investigates both intended and unintended effects of diblock copolymer nanoparticle (NP) delivery of siRNA delivery to human mesenchymal stem cells (hMSC). Specifically, siRNA delivery was investigated at a range of NP-siRNA:hMSC ratios with a focus on the effects of NP-siRNA treatment on hMSC functions. Additionally, next-generation RNA sequencing (RNA-seq) was used with enrichment analysis to observe side effects in hMSC gene expression. Results show NP-siRNA delivery is negatively correlated with hMSC density. However, higher NP-siRNA:hMSC ratios increased cytotoxicity and decreased metabolic activity. hMSC proliferation was largely unaffected by NP-siRNA treatment, except for a 3-fold reduction in hMSCs seeded at 4,000 cells/cm2. Flow cytometry reveals that apoptosis is a function of NP-siRNA treatment time and seeding density; ~14% of the treated hMSCs seeded at 8,000 cells/cm2 were annexin V+-siRNA+ 24 h after treatment, while 11% of the treated population was annexin V+-siRNA-. RNA-seq shows that NP-siRNA treatment results in transcriptomic changes in hMSCs, while pathway analysis shows upregulation of apoptosis signaling and downregulation of metabolism, cell cycle, and DNA replication pathways, as corroborated by apoptosis, metabolism, and proliferation assays. Additionally, multiple innate immune signaling pathways such as toll-like receptor (TLR), retinoic acid-inducible gene 1 (RIG-I)-like receptor, and nuclear factor-κB (NF-κB) signaling pathways are upregulated. Furthermore, and consistent with traditional siRNA immune activation, cytokine-cytokine receptor signaling was also upregulated. Overall, this study provides insight into NP-siRNA:hMSC ratios that are favorable for siRNA delivery. Moreover, NP-siRNA delivery results in side effects across the MSC transcriptome that suggest activation of the innate immunity that could alter MSC functions associated with their therapeutic potential.\\nOverall design: 21 total samples were analyzed from 7 experimental groups, with each group performed in triplicate (S1, S2, S3). Groups: (1) Day 0 samples harvested on day of NP-siRNA treatment administration (D0); (2) Untreated samples 1 day post-treatment (D1_NT); (3) NP-siRNA treated samples 1 day post-treatment (D1_Trxt); (4) Untreated samples 5 days post-treatment (D5_NT); (5) NP-siRNA treated samples 5 days post-treatment (D5_Trxt); (6) Untreated samples 14 days post-treatment (D14_NT); (7) NP-siRNA treated samples 14 days post-treatment (D14_Trxt). Less...',\n",
       "  'SampleCount': 21},\n",
       " {'ProjectId': 'PRJNA602926',\n",
       "  'Summary': 'Severe angiopathy has been postulated as a major driver for diabetes associated secondary complications. So far the knowledge on underlying mechanisms and thereon based therapeutic options to attenuate these pathologies are limited. Here we systematically administered ABCB5+ MSCs for the treatment of chronic non-healing diabetic wounds employing db/db mice, a type II diabetes model as their number markedly declined during diabetes. We found that administration of ABCB5+ MSCs markedly accelerates wound closure in diabetic db/db mice as opposed to the vehicle treated control group. Strikingly, administration of ABCB5+ MSCs at the edges of the diabetic wounds triggered considerable neoangiogenesis, most likely by the releasing a Ribonuclease angiogenin that was identified through secretome analysis of ABCB5+ MSCs. Interestingly, silencing of angiogenin in ABCB5+ MSCs significantly delayed wound closure in diabetic db/db mice indicating its key role in skin regeneration. Moreover, angiogenin also impacted the polarization of macrophages. The findings from this study will provide novel insight into the unique capacity of ABCB5+ MSCs to mount an adaptive response at the wound site with the delivery of angiogenic molecules holds significant promise for the therapy of non-healing diabetes foot ulcers, and other pathologies with impaired angiogenesis. The benefits for refined stem cell based therapies is virtually unlimited.\\nOverall design: Transcriptome profiling of HUVEC Less...',\n",
       "  'SampleCount': 2},\n",
       " {'ProjectId': 'PRJNA577678',\n",
       "  'Summary': 'We performed small-RNA sequencing using adipogenic differentiation samples from day 0 (undifferentiated) and day 14.\\nOverall design: To identify putative miRNAs that may simultaneously affect adipogenic differentiation and replicative senescence in hADSCs, we performed small-RNA sequencing using adipogenic differentiation samples from day 0 (undifferentiated) and day 14. Less...',\n",
       "  'SampleCount': 2},\n",
       " {'ProjectId': 'PRJNA560041',\n",
       "  'Summary': 'Mechanisms involved in adipose tissue expansion is of great interest in development of obesity and associated metabolic complications. Mesenchymal stem cell (MSC) differentiation in to adipocytes provides a model system to understand various gene expression pattern involved at different stages of adipogenesis. In this project we used bulk RNASeq to identify the genes that are selectively expressed at 3 different time points of adipocyte differentaition from MSCs.\\nOverall design: Gene expression profiling of MSCs at three different time points during in vitro differentiation in to adipocytes using bulk RNASeq. Less...',\n",
       "  'SampleCount': 81},\n",
       " {'ProjectId': 'PRJNA564771',\n",
       "  'Summary': 'To assess the hierarchical importance of multipotent differentiation compared with trophic/immunoregulatory functions of MSCs, we have undertaken a detailed analysis of how these properties change with in vitro ageing of the cells.  Using in vitro differentiation and repair models and integrating transcriptomics and proteomics data, we show that the multipotent differentiation capacity of MSCs falls with increasing passage, whereas trophic repair and immunoregulatory potency are maintained.\\nOverall design: In total four cell lines were profiled using Illumina whole genome RNA-seq. Cell lines were isolated from four individuals. RNA was extracted from each cell line at passage 1, 5, 10 and 15 for a total of 16 samples. Two samples (PN251_p15, PN241_p10) were sequenced twice to improve sequencing depth. Less...',\n",
       "  'SampleCount': 18},\n",
       " {'ProjectId': 'PRJNA564734',\n",
       "  'Summary': 'Background: Mesenchymal stem cells (MSCs) can be acquired from medical waste. MSCs are easily expanded and have multiple functions, including anti-inflammatory effects. We evaluated the effects of human adipose tissue-derived MSCs (AD-MSCs) and umbilical cord tissue-derived MSCs (UC-MSC) in a dextran sulfate sodium (DSS)-induced mouse model.    Methods: Human AD-MSCs and UC-MSCs (1 × 106 cells) were injected intravenously into a 7-day DSS-induced colitis model. The therapeutic effects of cell origin, injection timing, and supernatants obtained from MSC cultures were evaluated. We also analyzed mRNA expression in MSCs, tissues, and intestinal flora.    Results: AD-MSCs and UC-MSCs had strong anti-inflammatory effects when injected on day 3 in a mouse model. On day 11, mRNA levels of inflammatory factors in colon tissues were significantly decreased after injection of MSCs on day 3. Supernatants from MSCs culture decreased mRNA levels of tumor necrosis factor (Tnf)-α, but had reduced therapeutic effects compared with MSC cell injection. RNA sequencing using colon tissues obtained the day after cell injection revealed changes in the TNF-α/nuclear factor-κB and T-cell receptor signaling pathways. Additional analyses showed that several factors, including chromosome 10 open reading frame 54, stanniocalcin-1, and TNF receptor superfamily member 11b were increased in MSCs after adding serum from DSS colitis mice. Furthermore, both AD-MSCs and UC-MSCs maintained the balance of intestinal flora.    Conclusion: AD-MSCs and UC-MSCs showed therapeutic effects against inflammation after early cell injection while maintaining the intestinal flora. Although supernatants showed therapeutic effects, cell injection was more effective against inflammation.\\nOverall design: Examination of RNA expression of AD-MSC and UC-MSC with or without serum Less...',\n",
       "  'SampleCount': 6},\n",
       " {'ProjectId': 'PRJNA549491',\n",
       "  'Summary': 'We isolated adipose-derived mesenchymal stem cells (ASCs) from the lymphedema adipose tissue from liposuction specimens of 10 patients with malignancy-related extremity lymphedema, and we used adipose tissue from the normal upper abdomen of the same patients as control tissue. We compared the proliferation and adipogenic differentiation capacity between the two kinds of ASCs, and we explored the transcriptomic differences between them. We found that lymphedema-associated ASCs had more rapid proliferation and a higher adipogenic differentiation capacity. CDK1 inhibitors could return the abnormal biological characteristics of these cells to normal phenotype, suggesting that CDK1 is a key driver of proliferation and adipogenic differentiation in these cells, which might expound the accumulation of adipose tissue extensively observed in secondary lymphedema, indicating the CDK1 may be a potential target for lymphedema therapy. On the other hand, our finding showed that ASCs from lymphedema adipose tissues have higher immunosuppressive effect, and the inhibition of up-regulated cytokine CHI3L1 may be clinically beneficial. In summary, explore the underlying mechanisms of fat deposition in lymphedema may provide powerful strategies for the treatment of lymphedema.\\nOverall design: mRNA sequencing of ASCs from the affected thighs of 10 patients with lymphedema, and as control, ASCs from the normal upper abdomen of the same patients were also sequenced. Less...',\n",
       "  'SampleCount': 20},\n",
       " {'ProjectId': 'PRJNA543326',\n",
       "  'Summary': 'Based on transcriptome sequencing analysis, umbilical cord mesenchymal stem cells and placental mesenchymal stem cells share a total of 10529 common genes (called hpcCS consensus genes), which are umbilical cord-placental-consistent DEGs. The UC-MSC-specific region (referred to as the UC-specific gene) has most of the DEG (383 genes). The AM-MSC specific region (referred to as the AM specific gene) has 311 DEGs. The CM-MSC specific region (referred to as the CM specific gene) has 182 DEGs. The CV-MSC specific region (referred to as a CV-specific gene) has 169 DEGs. These results suggest that hMSCs from the umbilical cord and placenta have similar gene expression patterns, but have their own specific genes. The specific genes are not only involved in cell cycle, cell division, cell death, cell growth and development, transcriptional regulation, DNA repair, DNA. Replication plays an important role in chromosomal stability and is also involved in the movement of cellular or subcellular components, cellular communication and cell projection tissue, cytokine secretion and hormonal metabolism. The results of transcriptome sequencing analysis explain to some extent the differences in the biological characteristics of MSCs from different sources at the gene level.\\nOverall design: We compared the transcriptional profiles of four different placenta-drived MSCs using RNA-sequencing (RNA-seq) Less...',\n",
       "  'SampleCount': 4},\n",
       " {'ProjectId': 'PRJNA523396',\n",
       "  'Summary': 'To better understand the global responses of GMSCs to F. nucleatum infection along the time sequence, we performed a genome-wide transcriptome analysis by RNA-sequencing technology to determine the global changes on gene expression level\\nOverall design: 24 samples from 3 individuals (each individual involved  4 control samples at 3d 7d, 14d and 21d with no F. nucleatum treatment, and 4 experimental samples with F. nucleatum (F. nucleatum:cell=100:1) treatment at the same time point) were sequenced to analysis the whole gene expression level Less...',\n",
       "  'SampleCount': 24},\n",
       " {'ProjectId': 'PRJNA515878',\n",
       "  'Summary': 'Beige adipocytes are a distinct type of thermogenic fat cells in human. Since beige adipocytes are distributed sporadically within white adipose, characterization of human beige adipocytes has long been a problem. In this study, we reported a rapid and roboust method in generating human beige adipocyte with chemically defined medium and RNA-Seq was perfomed to reveal the molecular characterization of derived human beige adipocytes.\\nOverall design: mRNA profiling of adipose derived mesenchymal stem cells and in vitro differentiated beige adipocytes were generated by RNA-Seq, in duplicate, using illumina NextSeq platform. mRNA profile of in vitro differentiated white adipocytes were also generated by same method and serve as control. Less...',\n",
       "  'SampleCount': 7},\n",
       " {'ProjectId': 'PRJNA493024',\n",
       "  'Summary': 'Here, human pluripotent stem cells (including hiPSC and hESC) were induced to differentiate to mesenchymal stem cells (MSC) through the intermediate stage of neuromesoderm (NMP). We sequenced mRNA samples at different stages during NMP-MSC differentiation of human pluripotent stem cells to generate the gene expression profiles of these cells.\\nOverall design: 12 samples, including undifferentiated hPSC (hiPSC, H1, and H9), hPSC-NMP-derived paraxial mesoderm (hPSC-NMP-PM; including hiPSC-NMP-PM, H1-NMP-PM, and H9-NMP-PM), hPSC-NMP-MSC (Passage 5; including hiPSC-NMP-MSC, H1-NMP-MSC, H9-NMP-MSC1, and H9-NMP-MSC2), BMSC1 (Passage 5), and BMSC2 (Passage 5), were analyzed. Less...',\n",
       "  'SampleCount': 12},\n",
       " {'ProjectId': 'PRJNA488091',\n",
       "  'Summary': 'The development of mechanically functional cartilage and bone tissue constructs of clinically relevant size, as well as their integration with native tissues, remain important challenges for regenerative medicine. The objective of this study was to assess of adult human mesenchymal stem cells (MSC) in large, three dimensionally woven poly(\\uf065-caprolactone) (PCL) scaffolds in proximity to viable bone, both in a nude rat subcutaneous pouch model and under simulated conditions in vitro. In Study I, various scaffold permutations: PCL alone, PCL-bone, “point-of-care” seeded MSC-PCL-bone, and chondrogenically pre-cultured Ch-MSC-PCL-bone constructs were implanted in a dorsal, ectopic pouch in a nude rat. After eight weeks, cells in the PCL scaffold exhibited both chondrogenic and osteogenic gene expression profiles. Notably, while both tissue profiles were present, constructs that had been chondrogenically pre-cultured prior to implantation showed a loss of glycosaminoglycan (GAG) as well as the presence of mineralization along with the formation of trabeculae-like structures. In Study II of the study, the GAG loss and mineralization observed in Study I in vivo were recapitulated in vitro by the presence of either nearby bone or osteogenic culture medium additives but were prevented by a continued presence of chondrogenic medium additives. These data suggest conditions under which adult human stem cells in combination with polymer scaffolds synthesize functional and phenotypically distinct tissues based on the environmental conditions, and highlight the potential influence that paracrine factors from adjacent bone may have on MSC fate, once implanted in vivo for chondral or osteochondral repair.\\nOverall design: Three replicates of chondrogenically pre-cultured adult human mesenchymal stem cells (hMSC) seeded on poly(ε-caprolactone) scaffolds (3D woven PCL) sutured to bovine bone and implanted into info nude rats for 8 weeks follwed by RNA isolation. Less...',\n",
       "  'SampleCount': 3},\n",
       " {'ProjectId': 'PRJNA1032578',\n",
       "  'Summary': 'mRNA sequencing of mesenchymal stem cells transfected with YAP/TAZ siRNAs were treated with or without TNF-a for 24hr to profile gene expressions.\\nOverall design: The siRNAs for human YAP, TAZ or negative control siRNA were chemically synthesized by FASMAC (FASMAC, Kanagawa, Japan). MSCs were seeded in 24-well plastic culture plates and maintained for 48 hr. Then, siRNAs (10 pmol/ml) were transfected into the cells by using Lipofectamine RNAi-MAX (Invitrogen, Carlsbad, CA). After 48 hr cultivation, MSCs were stimulated with or without 10 ng/ml TNF-a for 24 hr. RNA extraction was conducted by using RNA-iso (Takara). The construction and sequencing of the cDNA library were carried out by the Beijing Genomics Institute using the DNBSEQ platform.  This project contains 12 samples of (3 from sicontrol-MSCs with non-treated, 3 from sicontrol-MSCs with TNF-a-treated, 3  from siYAP/TAZ-MSCs with non-treated, and 3 from siYAP/TAZ-MSCs with TNF-a-treated) RNA-seq data. Less...',\n",
       "  'SampleCount': 12},\n",
       " {'ProjectId': 'PRJNA1037038',\n",
       "  'Summary': 'Mechanical force is a crucial external stimulus that plays a significant role in regulating bone structure and remodeling. Excessive loading of the bone and joint can lead to increased catabolism, chondrocyte necrosis, apoptosis and damage to the collagen network of bone(3–5). Osteoarthritis (OA), a degenerative osteoarticular disease, is associated with abnormal mechanical force stimulation, which can occur in various joints such as knee, temporomandibular joint [TMJ], shoulder and hip(6). Conversely, the absence of mechanical loading, such as prolonged bed rest or exposure to a microgravity environment in space, can result in a rapid decrease in bone mass and strength. Understanding how mechanical stimuli regulate bone homeostasis is crucial for exploring therapeutic strategies for bone metabolic diseases.Mesechymal stem cells (MSCs) act as the external force sensoring and compression-bearing elements.What we want to explore is how mechanical stimulation affects the genome changes of mesenchymal stem cells.\\nOverall design: In order to explore the influence of mechanical stimulation on mesenchymal stem cells, we designed two groups: the control group and the mechanical stimulation group. The mechanical stimulation group was stimulated by large mechanical force for 24 hours, and the expression differences were compared. Less...',\n",
       "  'SampleCount': 6},\n",
       " {'ProjectId': 'PRJNA974357',\n",
       "  'Summary': 'To  investigate the genes that regulated by ghrelin in the cardiomyocyte differentiation of ADMSCs, we cultured cells for RNA-Sequencing.\\nOverall design: Comparative gene expression profiling analysis of RNA-seq data for induction medium treated ADMSCs with or without ghrelin addition. Less...',\n",
       "  'SampleCount': 6},\n",
       " {'ProjectId': 'PRJNA977052',\n",
       "  'Summary': 'Human umbilical cord mesenchymal stem cells (hUC-MSCs) are widely used in cell therapy due to their powerful immunomodulatory and tissue regenerative capabilities. In order to meet the number and quality of cells for clinical applications, we developed a hUC-MSCs culture process based on homemade microcarriers and stirred bioreactors. In this study, the biological properties of hUC-MSCs amplified by planar culture and microcarrier bioreactor systems are systematically compared. It was found that microcarrier-expanded hUC-MSCs had a relatively lower degree of aging, relatively stronger proliferation capacity, and fewer cells stayed in the cell cycle retardation period. At the same time, RNA-seq was used to compare the differences in gene expression between the two cultures, and the pathways and genes related to cell aging were identified. Comparing the transcription levels of these aging-related gene sets can also confirm that cells cultured by microcarrier reactors are more youthful. Results show that our reactor culture method greatly improved the cell proliferation efficiency, while maintaining the basic properties and younger state of stem cells.\\nOverall design: Develop a culture process for hUC-MSCs based on homemade microcarriers and stirred bioreactors, systematically compare the biological characteristics of hUC-MSCs amplified by planar culture and microcarrier bioreactor systems, and compare gene expression differences between the two cultures by RNA-seq to identify pathways and genes associated with cellular senescence. Less...',\n",
       "  'SampleCount': 18},\n",
       " {'ProjectId': 'PRJNA936126',\n",
       "  'Summary': 'A comprehensive evaluation of differential gene expression on RNA-seq data of early and late passage hMSCs from three individuals, and undifferentiated and 21-day of chondrogenic differentiation hMSCs from previous publication (GSE109503). Genome-wide RNA-seq and differential expression analysis revealed that signalings such as Pulmonary Fibrosis Idiopathic (IPF) Signaling Pathway and Osteoclasts in Rheumatoid Arthritis (RA) Signaling Pathway were significant differences in early MSC. Differential FOXO1 expression, higher in Early than Late MSCs, was responsible for promoting suspension survival, and cell migration, and induces chondrogenic differentiation.\\nOverall design: RNA-Seq of early and late passage bone marrow-derived mesenchymal stem cells with 3 biological replicates (representing 6 samples).\\nIn addition, third-party reanalysis of 6 samples from Series GSE109503. Less...',\n",
       "  'SampleCount': 6},\n",
       " {'ProjectId': 'PRJNA917313',\n",
       "  'Summary': 'Objectives: Bone marrow mesenchymal stem cells (BMSC) play an important role in osteogenesis. However, the role of BMSC in osteopenia in spinal tuberculosis (STB) patients is unclear.\\nMethods: Bone mineral density (BMD) of 53 STB patients and 55 controls was measured. The migration and osteogenesis of BMSC were assessed by wound healing assays and alizarin red staining, and osteoclast marker expression was measured. RNA-seq was performed on BMSC and the enriched signaling pathways were verified.\\nResults:BMD of STB patients was significantly decreased and BMSC migration and osteogenesis were significantly reduced. After verification, we found that the B-cell receptor signaling pathway, tuberculosis, osteoclast differentiation, Th17-cell differentiation, Ras signaling pathway and PI3K-Akt signaling pathway were affected.And of these pathways, the B-cell receptor signaling, Th17-cell differentiation, Ras signaling pathway and PI3K-Akt signaling pathway were not previously known to be involved in osteopenia. The MAPK signaling pathway and ECM-receptor interactions were correlated with STB prognosis.\\nConclusion: STB infection can significantly reduce BMSC migration and osteogenesis, decreasing BMD. This process is regulated by multiple pathways and is associated with STB prognosis. Our study suggests that reduced BMSC migration and osteogenesis play important roles in osteopenia in STB patients, and BMSC may be a therapeutic target.\\nOverall design: Comparative gene expression profiling analysis of RNA-seq data for BMSCs in STB patients and controls Less...',\n",
       "  'SampleCount': 8},\n",
       " {'ProjectId': 'PRJNA667748',\n",
       "  'Summary': 'Next Generation Sequencing (NGS)-based mRNA sequencing (RNA-seq) has provided high-throughput measurements to analyze the transcriptome of cells. We are reporting  comprehensive transcriptome profiling of primarily isolated human adipose-derived mesenchymal stem cells (ADMSC) throughout consecutive culture passages using NGS-based RNA-seq method. Human adipose tissue was obtained from operative remains and and digested in collagenase X. ADMSC were isolated, cultivated and characterized as mesenchymal stem cells (MSC) according to the minimum criteria for defining multipotent MSC from the International Society for Cellular Therapy (ISCT). mRNA profiles of ADMSC in p0, p1 and p2 were quality controlled, and generated by deep sequencing, in triplicate, using Illumina PE150 kits. Paired-end raw data were pre-processed using a published protocol. HISAT2 (Hierarchical Indexing for Spliced Alignment of Transcripts) was used to align reference genome. HTSeq was used to calculate Reads Count, and gene abundence was determined by analyzing FPKM (fragments per kilobase of exon model per million reads mapped).\\nOverall design: mRNA profiles of human adipose-derived mesenchymal stem cells in passage 0, passage 1 and passage 2 Less...',\n",
       "  'SampleCount': 6},\n",
       " {'ProjectId': 'PRJNA662707',\n",
       "  'Summary': 'Transcriptomic analysis of vitamin D-treated human umbilical cord tissue-derived mesenchymal stem cells that were differentiated for 7 days into the myogenic lineage\\nOverall design: MSCs isolated from human umbilical cord tissue (UCT) and grown in αMEM with 20% fetal bovine serum on Laminin and Collagen Type 1-coated tissue culture plates were switched to medium containing αMEM with 15% KnockOut Serum Replacement. After 24 hours, MSCs from each of the biological replicates were treated with 100nM vitamin D or vehicle control for 3 days, with fresh medium being added every day. This was followed by induction of myogenic differentiation in both vitamin D-treated and untreated samples by the addition of medium containing 5% horse serum, 0.1 µM dexamethasone, and 50 µM hydrocortisone. After 7 days, total RNA was isolated from vitamin D-treated and control samples by Trizol (SIGMA) and processed for RNA-seq. Less...',\n",
       "  'SampleCount': 10},\n",
       " {'ProjectId': 'PRJNA1033720',\n",
       "  'Summary': 'Neuromyelitis optica (NMO) is a severe autoimmune inflammatory disease of the central nervous system that affects motor function and causes relapsing disability. Human umbilical cord-derived mesenchymal stem cells (hUC-MSCs) have been used extensively in the treatment of various inflammatory diseases, due to their potent regulatory roles that can mitigate inflammation and repair damaged tissues. However, their use in NMO is currently limited, and the mechanism underlying the beneficial effects of hUC-MSCs on motor function in NMO remains unclear. In this study, we investigate the effects of hUC-MSCs on the recovery of motor function in an NMO systemic model. Our findings demonstrate that milk fat globule epidermal growth 8 (MFGE8), a key functional factor secreted by hUC-MSCs, plays a critical role in ameliorating motor impairments. We also elucidate that the MFGE8/Integrin αvβ3/NF-κB signaling pathway is partially responsible for structural and functional recovery, in addition to motor functional enhancements induced by hUC-MSC exposure. Taken together, these findings strongly support the involvement of MFGE8 in mediating hUC-MSCs-induced improvements in motor functional recovery in an NMO mouse model. In addition, this provides new insight on the therapeutic potential of hUC-MSCs and the mechanisms underlying their beneficial effects in NMO.\\nOverall design: Scanning gene expression profiling analysis of cytokines for hUC-MSC cells. Less...',\n",
       "  'SampleCount': 4},\n",
       " {'ProjectId': 'PRJNA484761',\n",
       "  'Summary': 'We show that mesenchymal CSC-like cells express an embryonic stem cell signature that is mutant p53 dependent\\nOverall design: Examination of three p53 mutant mesenchymal stem cells and ten derived CSC-like cell lines and 2 derived p53 mutant KO clones compared to control clones',\n",
       "  'SampleCount': 17},\n",
       " {'ProjectId': 'PRJNA938188',\n",
       "  'Summary': 'Mesenchymal stem cells (MSCs) have demonstrated remarkable therapeuticpromise for acute lung injury (ALI) and its severe form, acute respiratory distress syndrome (ARDS). MSC secretomes contain various immunoregulatory mediators that modulate both innate and adaptive immune responses. Priming MSCs has been widely considered to boost their therapeutic efficacy for a variety of diseases. Prostaglandin E2 (PGE2) plays a vital role in physiological processes that mediate the regeneration of injured organs. This work utilized PGE2 to prime MSCs and investigated their therapeutic potential in ALI models. Less...',\n",
       "  'SampleCount': 6},\n",
       " {'ProjectId': 'PRJNA868411',\n",
       "  'Summary': 'Mesenchymal stem cells (MSCs) possess the potential of differentiating into chondrocytes, which makes it an ideal source in healing cartilage defects. Here, we want to find out the key genes that participate in MSCs chondrogenesis. Human MSCs were induced for chondrogenesis for 7, 14, and 21 days using high-density micromass culture system and RNA was extracted for RNA-seq. A total of 6247 differentially expressed gene (DEGs) were identified at day 7, and 85 DEGs were identified at day 14. However, no significant DEGs was identified in day 21. The top 30 DEGs at day 7, including COL9A3, COL10A1, and CILP2, are closely related to extracellular matrix organization. While the top 30 DEGs at day 14 revealed that genes related to inflammation were enriched, including CXCL8, TLR2, and CCL20. We also conducted protein-protein interaction (PPI) networks analysis using search tool for the retrieval of interacting genes (STRING) database and identified key hub genes including CXCL8, TLR2, CCL20, and MMP3. The transcriptional factors were also analyzed, and identified top 5 TFs: LEF1, FOXO1, RORA, BHLHE41, SOX5. We demonstrated one particular TF, RORA, in promoting early MSCs chondrogenesis. Taken together, our result suggested that these DEGs may have a complex effect on MSCs chondrogenesis both synergistically and solitarily.\\nOverall design: Comparative gene expression profiling analysis of RNA-seq data for the chondrogenesis process of human mesenchymal stem cells Less...',\n",
       "  'SampleCount': 15},\n",
       " {'ProjectId': 'PRJNA716970',\n",
       "  'Summary': 'We performed RNA sequencing to identify differentially expressed gene patterns between WJ-MSC treated with or without 5 µg/mL of DEP.\\nOverall design: Diesel exhaust particles exposure in hWJ-MSCs',\n",
       "  'SampleCount': 4},\n",
       " {'ProjectId': 'PRJNA709641',\n",
       "  'Summary': 'In this project, we reported a simple derivation method to generate MSCs via definitive endoderm from hESCs, which possess potent immunomodulatory properties in vitro and in vivo and may serve as an ideal candidate for MSC-based therapies.',\n",
       "  'SampleCount': 34},\n",
       " {'ProjectId': 'PRJNA700504',\n",
       "  'Summary': 'RNA-seq for MSCs from human bone marrow (BM-MSCs), olfactory mucosa (OM-MSCs), and umbilical cord (UC-MSCs) (2 donors for each). RNA-sequencing for human naïve CD3+ T cells, CD3+ T cells activated with PHA (2.5 μg/mL) for 48 h， and CD3+ T cells co-cultured with human UC-MSCs in the presence of PHA for 48 h.\\nOverall design: MSCs from bone marrow (BM-MSCs), olfactory mucosa (OM-MSCs), and umbilical cord (UC-MSCs) (2 donors for each) were collected and sequenced to identify the differently expressed genes and related pathways. FACS sorted human naïve CD3+ T cells, CD3+ T cells activated with PHA (2.5 μg/mL) for 48 h, and CD3+ T cells co-cultured with human UC-MSCs in the presence of PHA for 48 h were collected and sequenced to identify the differently expressed genes and related pathways. Less...',\n",
       "  'SampleCount': 16},\n",
       " {'ProjectId': 'PRJEB36449',\n",
       "  'Summary': 'Differences in gene expression between unsorted adipose tissue-derived mesenchymal stem cells (AD-MSCs), and a specific subpopulation that has been selected for the expression of the surface marker CD271. It is believed that the selection of this specific subpopulation from the heterogeneous SVF will lead to mesenchymal stem cells with higher angiogenetic potential. Less...',\n",
       "  'SampleCount': 12},\n",
       " {'ProjectId': 'PRJNA697955',\n",
       "  'Summary': 'Mesenchymal stem cells (MSC) are one of the most widely clinically trialed stem cells, due to their abilities to secret regenerative/rejuvenating factors, modulate immune functions, among others. In this study, we analyzed human umbilical-cord-derived MSC from 32 donors and revealed donor-dependent variations in two non-correlated properties, 1) cell proliferation, and 2) immune modulatory functions in vitro and in vivo, which might explain inconsistent clinical efficacies of MSC. Through unbiased transcriptomic analyses, we discovered that IFN- γ and NF-κB signaling were positively associated with immune modulatory function of MSC. Activation of these two pathways via IFN-γ and TNF-α treatment eradicated donor-dependent variations. Additional transcriptomic analyses revealed that treatment with these two factors, while abolished donor-dependent variations in immune modulatory function, did not overall made different donor-derived MSC more similar at whole transcriptomic levels, meaning the cells were still different in many other biological perspectives, and might not perform equally for therapeutic purposes other than immune modulation. Pre-selection or pre-treatment to eradicate MSC variations in a disease-treatment-specific manner would therefore be necessary to assure clinical efficacies. Together this study provided novel insights into the quality control perspective of using different-donor-derived MSC to treat inflammation-related clinical conditions and/or autoimmune diseases.\\nOverall design: In this study, we analyzed human umbilical-cord-derived MSC from 32 donors and revealed donor-dependent variations. We also analyzed 3 MSC strains with 3 replicates in 2 conditions. Less...',\n",
       "  'SampleCount': 50},\n",
       " {'ProjectId': 'PRJNA898405',\n",
       "  'Summary': 'Differentiation of multipotent mesenchymal stem cells into bone-forming osteoblasts requires strict coordination of transcriptional pathways. Aryl hydrocarbon receptor (AhR) ligands, such as 2,3,7,8-tetrachlorodibenzo-p-dioxin (TCDD), have been shown to alter osteoblast differentiation in vitro and bone formation in multiple developmental in vivo models. The goal of the present study was to establish a global transcriptomic landscape during early, intermediate, and apical stages of osteogenic differentiation in vitro in response to TCDD exposure. Human bone-derived mesenchymal stem cells (hBMSC) were cultured in growth media (GM), osteogenic differentiation media (ODM), or osteogenic differentiation media containing 10 nM TCDD (ODM+TCDD), thus enabling a comparison of the transcriptomic profiles of undifferentiated, differentiated, and differentiated -TCDD-exposed hBMSCs, respectively. In this test system, exposure to TCDD attenuated differentiation of hBMSCs into osteoblasts as evidenced by reduced alkaline phosphatase activity and mineralization. At various timepoints, we observed altered expression of genes that play a role in the Wnt, FGF, BMP/TGF-β developmental pathways, as well as pathways related to extracellular matrix organization and deposition. Reconstruction of gene regulatory networks with the iDREM analysis revealed modulation of transcription factors (TF) including POLR3G, NR4A1, RDBP, GTF2B, POU2F2 and ZEB1, which may putatively influence osteoblast differentiation and the requisite deposition and mineralization of bone extracellular matrix. We demonstrate that the combination of RNA-Seq data in conjunction with the iDREM regulatory model, captures the transcriptional dynamics underlying mesenchymal stem cell differentiation under different conditions in vitro. Model predictions are consistent with existing knowledge and provides a new tool to identify novel pathways and transcription factors that may facilitate a better understanding of the osteoblast differentiation process, perturbation by exogenous agents, and potential intervention strategies targeting those specific pathways.\\nOverall design: TCDD alters essential transcriptional regulators of osteogenic differentiation in multipotent mesenchymal stem cells Less...',\n",
       "  'SampleCount': 60},\n",
       " {'ProjectId': 'PRJNA886749',\n",
       "  'Summary': 'We hypothesize that the combination of mechanical loading with hypoxia culture and TGF-β3 growth factor withdrawal will promote stable, non-hypertrophic chondrogenesis of hBM-MSC embedded in an HA-hydrogel. To this end, we first assessed static hypoxia culture with growth factor withdrawal against static normoxia (20% O2) culture at the global transcriptome and tissue matrix level. We then assess two modalities of mechanical loading (dynamic compression, DC and cyclic hydrostatic pressure, CHP) with growth factor withdrawal against static culture, all under hypoxia. Results showed that Mechanical stimulation and TGF-β3 withdrawal under hypoxia promoted a strong chondrogenic and non-hypertrophic phenotype of hBM-MSC.\\nOverall design: Tissue-engineered constructs were made from frozen human BM-MSCs seeded on HyStem-C hydrogel. Constructs were precultured for three weeks in a 3% oxygen (HYP) condition with the supplement of TGF-β3. After pre-culture, two separate experiments were conducted. In experiment I, constructs were cultured in 3% and 20% (NRX) oxygen environment with/without the supplement with TGF-β3 for 3 weeks. In experiment II, constructs were cultured under dynamic compression or cyclic hydrostatic pressure with/without the supplement with TGF-β3 for 3 weeks. After the 6 weeks period, constructs were assessed via histology, immunofluorescence, GAG/DNA assays, RNA sequencing, and testing of mechanical properties. Less...',\n",
       "  'SampleCount': 24},\n",
       " {'ProjectId': 'PRJNA748452',\n",
       "  'Summary': 'Purpose: The goals of this study are to perform NGC analysis in order to compare the gene expression profiles of GMSCs cultured in 3D-collagen hydrogel and their 2D-cultured counterparts.\\nMethods:  mRNA profiles of 3D- and 2D-cultured GMSCs were generated by deep sequencing, in triplicate, using Illumina Xten. The read alignment is done using HISAT2 v.2.0.5 software with Ensembl GRCh38 genome as reference genome. Transcripts Assembly  is done using StringTie v.1.3.3b software. Significant DE genes or transcripts (q-value < 0.05) were extracted by edgeR (R package) for each comparison groups. DEGs were analyzed with gene ontology enrichment analysis and KEGG by R software with clusterProfiler package. Significant GO or KEGG terms (FDR-value < 0.05) were extracted using hypergeometric distribution. qRT–PCR validation was performed using TaqMan and SYBR Green assays\\nResults: Using an optimized data analysis workflow, significant differentially expressed genes (DEGs) were defined as those with a log2 fold change (FC) ≥1 (GMSC-3D v.s.GMSC-2D) and a false discovery rate (FDR) of ≤ 1%. A total of 5588 DEGs, including 3476 upregulated and 2112 downregulated genes were identified between 3D-cultured GMSCs and 2D-cultured counterparts with a fold change ≥1.0 and p value <0.05.  Altered expression of 17 genes reltaed to neural crest stem cells, mesenchymal cells, and NOTCh signaling pathways was confirmed with qRT–PCR, demonstrating the high degree of sensitivity of the RNA-seq method. Hierarchical cluster analysis revealed a different hierarchical clustering algorithm between 3D- and 2D-cultured GMSCs as illustrated in the Heatmap, which uncovered several as yet uncharacterized clusters of genes that may contribute to the conversion of GMSCs into neural crest stem-like (NCSC) or Schwann cell precursor (SCP)-like cells under a defined 3D-collagen hydrogel condition.\\nConclusions: Our study represents the first detailed comparative analysis of gene expression profiles between 2D- and 3D-cultured GMSCs, with biologic replicates, generated by RNA-seq technology. Our RNA-seq results show that GMSCs cultured in defined 3D-collagen hydrogel underwent conversion into neural crest stem-like (NCSC)/Schwann cell precursor-like (SCP) cells charcaterized by upregulation of a panel of neural crest-related genes, NOTCH signaling components, and downregulation of a panel of mesenchymal cell-related genes. We conclude that RNA-seq based transcriptome characterization would permit further dissection of complex molecular mechanisms underlying 3D collagen hydrogel-driven conversion of GMSCs into NCSC/SCP-like cells..\\nOverall design: mRNA profiles of GMSCs cultured under regular 2D- and defined 3D-culture conditions',\n",
       "  'SampleCount': 12},\n",
       " {'ProjectId': 'PRJNA739464',\n",
       "  'Summary': 'Expansion in vitro prior to mesenchymal stem cells (MSCs) application is a necessary process. Functional and genomic stability has a crucial role in stem cell-based therapies. Long non-coding RNAs (lncRNAs), circular RNAs (circRNAs) and messenger RNAs (mRNAs) play an important role in human bone marrow (BM)-derived MSCs, however, the exact expression and co-expressed profiles in human BM-MSCs in vitro ageing are still lacking. The decreased capacity of proliferation, differentiation and immunoregulation of MSCs at passage (P) 4, P6, P8, P10 and P12 was investigated, and RNA-sequencing identified 439 mRNAs, 65 lncRNAs, 59 miRNAs and 229 circRNAs were differentially expressed (DE) in P12 compared to P4, with a similar trend in P6. GO and KEGG analyses identified several significant biological processes and regulatory pathways, including binding, ossification, and Wnt and PPAR signalling pathways. Interaction and co- expression/co-localization analyses were performed for DE mRNAs and lncRNAs, and several key lncRNAs, circRNAs and important pathway like autophagy and mitophagy were identified in the competing endogenous RNA (ceRNA) network. Our studies indicate replicative senescence of MSC is a continuous process, including widespread alterations in phenotypic, proliferative, differentiation and immunoregulatory potential and global gene expression patterns that need to be considered before therapeutic applications of MSCs.\\nOverall design: Examination of changes in ceRNA Network-associated RNA profiles of human bone marrow-derived mesenchymal stem cells. Less...',\n",
       "  'SampleCount': 18},\n",
       " {'ProjectId': 'PRJNA642241',\n",
       "  'Summary': 'In order to recapitulated the primary mechanism of the pathologically enhanced osteogenesis of mesenchymal stem cells from ankylosing spondylitis patients (ASMSCs) over MSCs from healthy donor, we performed multiomic high-throughput sequencing. We analysed the H3K27ac ChIP-seq data according to ROSE algorithm, and identified super enhancers (SEs) in ASMSCs and HDMSCs. The ASMSC-unique SEs (ASUSEs) are associated with osteogenic differentiation and AS pathogenesis. By integrated analysis of H3K27ac ChIP-seq, ankylosing spondylitis (AS) SNPs and RNA-seq data, we discovered the transcription network regulated by AS SNP-adjacent super enhancers (SASEs) during the enhanced osteogenic differentiation of MSCs from AS patients (ASMSCs), which helped us gain insight into the crutial mechanism of AS pathological osteogenesis. And based on the inhibition effect of SE inhibitor JQ1 on the enhanced osteogenic differentiation of ASMSCs, we proposed that SEs may be attractive targets to treat AS pathological osteogenesis.\\nOverall design: Examination of the mRNA profiles in ASMSCs and HDMSCs during osteogenic differentiation Less...',\n",
       "  'SampleCount': 6},\n",
       " {'ProjectId': 'PRJNA630730',\n",
       "  'Summary': 'miRNA profiles of hUCMSCs infected with ZIKV using Illumina small RNA sequencing platform\\nOverall design: Investigation of the differential expression patterns of miRNAs in response to ZIKV infection',\n",
       "  'SampleCount': 5},\n",
       " {'ProjectId': 'PRJNA621634',\n",
       "  'Summary': 'Comparison of differential expression between macrodactyly BMSC and polydactyly BMSC\\nOverall design: Total RNAs was extracted from passage 3 of cultured Macrodactyly-BMSCs (n=2) and Polydactyly-BMSCs (n=2) ,complementary DNA library preparation and sequencing were performed according to Illumina standard protocol.',\n",
       "  'SampleCount': 4},\n",
       " {'ProjectId': 'PRJNA598214',\n",
       "  'Summary': 'We implemented transcriptomic analyses of hADSCs treated with rGDF11 1, 2 and 6 days\\nOverall design: hADSCs treated with rGDF11 1, 2 and 6 days',\n",
       "  'SampleCount': 14},\n",
       " {'ProjectId': 'PRJNA834773',\n",
       "  'Summary': 'To investigate the reprogramming roles of miR130a-3p and miR130b-3p  on mesenchymal stem cells, we transefected miRNA minics to overexpress them.\\nWe then performed gene expression profiling analysis using data obtained from total RNA-seq of 3 different treatment after 3 days transfection.\\nOverall design: Comparative gene expression profiling analysis of RNA-seq data regulated by miR130a-3p or miR-130b-3p in mesenchymal stem cells (miR130a-3p and miR130b-3p). Less...',\n",
       "  'SampleCount': 9}]"
      ]
     },
     "execution_count": 199,
     "metadata": {},
     "output_type": "execute_result"
    }
   ],
   "source": [
    "todo"
   ]
  },
  {
   "cell_type": "code",
   "execution_count": 193,
   "id": "86b7eebe-31ea-4f25-84dd-414151859284",
   "metadata": {},
   "outputs": [],
   "source": [
    "for item in todo:\n",
    "    print(f\"snakemake -j 24 -p -s EXPRESSION.smk --config pid={item['ProjectId']}\")"
   ]
  },
  {
   "cell_type": "code",
   "execution_count": null,
   "id": "9b3026a9-4580-461b-a27c-2d7f47732935",
   "metadata": {},
   "outputs": [],
   "source": []
  }
 ],
 "metadata": {
  "kernelspec": {
   "display_name": "Python 3 (ipykernel)",
   "language": "python",
   "name": "python3"
  },
  "language_info": {
   "codemirror_mode": {
    "name": "ipython",
    "version": 3
   },
   "file_extension": ".py",
   "mimetype": "text/x-python",
   "name": "python",
   "nbconvert_exporter": "python",
   "pygments_lexer": "ipython3",
   "version": "3.10.8"
  }
 },
 "nbformat": 4,
 "nbformat_minor": 5
}
